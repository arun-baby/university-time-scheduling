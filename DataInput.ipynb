{
 "metadata": {
  "language_info": {
   "codemirror_mode": {
    "name": "ipython",
    "version": 3
   },
   "file_extension": ".py",
   "mimetype": "text/x-python",
   "name": "python",
   "nbconvert_exporter": "python",
   "pygments_lexer": "ipython3",
   "version": "3.8.5-final"
  },
  "orig_nbformat": 2,
  "kernelspec": {
   "name": "python3",
   "display_name": "Python 3",
   "language": "python"
  }
 },
 "nbformat": 4,
 "nbformat_minor": 2,
 "cells": [
  {
   "cell_type": "code",
   "execution_count": 61,
   "metadata": {},
   "outputs": [],
   "source": [
    "import xml.etree.ElementTree as ET\n",
    "from Components import Timing, Course, Subpart, Class, HardConstraint, SoftConstraint, Student\n",
    "\n",
    "inputFile = \"bet-sum18_trimmed.xml\""
   ]
  },
  {
   "cell_type": "code",
   "execution_count": null,
   "metadata": {},
   "outputs": [],
   "source": [
    "# Passing the path of the \n",
    "# xml document to enable the \n",
    "# parsing process \n",
    "tree = ET.parse(inputFile) \n",
    "# getting the parent tag of \n",
    "# the xml document \n",
    "root = tree.getroot() "
   ]
  },
  {
   "cell_type": "code",
   "execution_count": 52,
   "metadata": {},
   "outputs": [
    {
     "output_type": "execute_result",
     "data": {
      "text/plain": [
       "<function xml.etree.ElementTree.tostringlist(element, encoding=None, method=None, *, xml_declaration=None, default_namespace=None, short_empty_elements=True)>"
      ]
     },
     "metadata": {},
     "execution_count": 52
    }
   ],
   "source": [
    "coursesXML = root.findall('./courses/course')\n",
    "ET.tostringlist"
   ]
  },
  {
   "cell_type": "code",
   "execution_count": 53,
   "metadata": {
    "tags": []
   },
   "outputs": [
    {
     "output_type": "stream",
     "name": "stdout",
     "text": [
      "99 Classes extracted\n71 Subparts extracted\n48 Courses extracted\n"
     ]
    }
   ],
   "source": [
    "courses = []\n",
    "subparts = []\n",
    "classes = []\n",
    "for course in coursesXML:\n",
    "    config = course.find('config')\n",
    "    courseID = course.get('id')\n",
    "    subpartXML = config.findall('subpart')\n",
    "    subpartList = []\n",
    "    for subpart in subpartXML:\n",
    "        subpartID = subpart.get('id')\n",
    "        subpartList.append(subpartID)\n",
    "        classesXML = subpart.findall('class')\n",
    "        classList = []\n",
    "        for singleClass in classesXML:\n",
    "            classID = singleClass.get('id')\n",
    "            classList.append(classID)\n",
    "            classLimit = singleClass.get('limit')\n",
    "            classParent = singleClass.get('parent')\n",
    "            timeXML = singleClass.findall('time')\n",
    "            timings = []\n",
    "            for timing in timeXML:\n",
    "                days = timing.get('days')\n",
    "                length = timing.get('length')\n",
    "                penalty = timing.get('penalty')\n",
    "                start = timing.get('start')\n",
    "                weeks = timing.get('weeks')\n",
    "                timingObject = Timing(days, length, start, weeks, penalty)\n",
    "                timings.append(timingObject)\n",
    "            classObject = Class(classID, classLimit, classParent, subpartID, courseID, timings)\n",
    "            classes.append(classObject)\n",
    "        subpartObject = Subpart(subpartID, courseID, classList)\n",
    "        subparts.append(subpartObject)\n",
    "    courseObject = Course(courseID, subpartList)\n",
    "    courses.append(courseObject)\n",
    "print(\"%d Classes extracted\"%(len(classes)))\n",
    "print(\"%d Subparts extracted\"%(len(subparts)))\n",
    "print(\"%d Courses extracted\"%(len(courses)))"
   ]
  },
  {
   "cell_type": "code",
   "execution_count": 66,
   "metadata": {},
   "outputs": [],
   "source": [
    "Hardconstraints = []\n",
    "SoftConstraints = []\n",
    "distributionXML = root.findall('./distributions/distribution')\n",
    "\n",
    "requiredTypes = ['Precedence', 'NotOverlap', 'SameTime', 'DifferentTime', 'MinGap', 'DifferentDays']\n",
    "\n",
    "for dist in distributionXML:\n",
    "    constraintType = dist.get('type')\n",
    "    for checkstring in requiredTypes:\n",
    "        if checkstring in constraintType:\n",
    "            classList = []\n",
    "            classXML = dist.findall('class')\n",
    "            for singleClass in classXML:\n",
    "                classList.append(singleClass.get('id'))\n",
    "            if(dist.get('required') == 'true'):\n",
    "                Hardconstraints.append(HardConstraint(constraintType, classList))\n",
    "            else:\n",
    "                penalty = dist.get('penalty')\n",
    "                SoftConstraints.append(SoftConstraint(constraintType, classList, penalty))"
   ]
  },
  {
   "cell_type": "code",
   "execution_count": null,
   "metadata": {},
   "outputs": [],
   "source": []
  }
 ]
}