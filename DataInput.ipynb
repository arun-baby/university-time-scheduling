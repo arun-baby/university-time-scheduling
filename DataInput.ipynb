{
 "metadata": {
  "language_info": {
   "codemirror_mode": {
    "name": "ipython",
    "version": 3
   },
   "file_extension": ".py",
   "mimetype": "text/x-python",
   "name": "python",
   "nbconvert_exporter": "python",
   "pygments_lexer": "ipython3",
   "version": "3.8.5-final"
  },
  "orig_nbformat": 2,
  "kernelspec": {
   "name": "python3",
   "display_name": "Python 3",
   "language": "python"
  }
 },
 "nbformat": 4,
 "nbformat_minor": 2,
 "cells": [
  {
   "cell_type": "code",
   "execution_count": 1,
   "metadata": {},
   "outputs": [],
   "source": [
    "import xml.etree.ElementTree as ET\n",
    "\n",
    "#Extracting the custom classes from the Components module, See components folder for class definitions\n",
    "from Components.Class import Class\n",
    "from Components.Course import Course\n",
    "from Components.HardConstraint import HardConstraint\n",
    "from Components.SoftConstraint import SoftConstraint\n",
    "from Components.Student import Student\n",
    "from Components.Subpart import Subpart\n",
    "from Components.Timing import Timing\n",
    "\n",
    "#Name of input file, change this file if you use a different file. This file is outputted from \"trim_dataset.ipynb\"\n",
    "inputFile = \"agh-fis-spr17_trimmed.xml\""
   ]
  },
  {
   "cell_type": "code",
   "execution_count": 2,
   "metadata": {},
   "outputs": [],
   "source": [
    "# Passing the path of the \n",
    "# xml document to enable the \n",
    "# parsing process \n",
    "tree = ET.parse(inputFile) \n",
    "# getting the parent tag of \n",
    "# the xml document \n",
    "root = tree.getroot() "
   ]
  },
  {
   "cell_type": "code",
   "execution_count": 3,
   "metadata": {
    "tags": []
   },
   "outputs": [
    {
     "output_type": "stream",
     "name": "stdout",
     "text": [
      "1239 Classes extracted\n665 Subparts extracted\n340 Courses extracted\n"
     ]
    }
   ],
   "source": [
    "#extracting just courses\n",
    "coursesXML = root.findall('./courses/course')\n",
    "\n",
    "#Initializing empty dictionaries\n",
    "courses = {}\n",
    "subparts = {}\n",
    "classes = {}\n",
    "\n",
    "#Iterating through each course's XML\n",
    "for course in coursesXML:\n",
    "    #Finding the first config, other configs are not considered\n",
    "    config = course.find('config')\n",
    "    courseID = course.get('id')\n",
    "\n",
    "    #Extracting all subparts in courseXML\n",
    "    subpartXML = config.findall('subpart')\n",
    "    #listing subparts to be added to course object\n",
    "    subpartList = []\n",
    "    for subpart in subpartXML:\n",
    "        subpartID = subpart.get('id')\n",
    "        subpartList.append(subpartID)\n",
    "\n",
    "        #Finding all classes from Subpart XML\n",
    "        classesXML = subpart.findall('class')\n",
    "        #Listing all classes to be added to subpart object\n",
    "        classList = []\n",
    "        for singleClass in classesXML:\n",
    "            classID = singleClass.get('id')\n",
    "            classList.append(classID)\n",
    "            classLimit = singleClass.get('limit')\n",
    "            classParent = singleClass.get('parent')\n",
    "\n",
    "            #Finding all timings from Class XML\n",
    "            timeXML = singleClass.findall('time')\n",
    "            #Listing all timings to be added to Class object\n",
    "            timings = []\n",
    "            for timing in timeXML:\n",
    "                days = timing.get('days')\n",
    "                length = timing.get('length')\n",
    "                penalty = timing.get('penalty')\n",
    "                start = timing.get('start')\n",
    "                weeks = timing.get('weeks')\n",
    "                timingObject = Timing(days, length, start, weeks, penalty)\n",
    "                timings.append(timingObject)\n",
    "            #Creating a new class object\n",
    "            classObject = Class(classID, classLimit, classParent, subpartID, courseID, timings)\n",
    "            #Adding the new class object to class dictionary\n",
    "            classes[classID] = classObject\n",
    "        #Creating a new subpart object\n",
    "        subpartObject = Subpart(subpartID, courseID, classList)\n",
    "        #Adding the new subpart object to class dictionary\n",
    "        subparts[subpartID] = subpartObject\n",
    "    #Creating a new course object\n",
    "    courseObject = Course(courseID, subpartList)\n",
    "    #Adding the new subpart object to class dictionary\n",
    "    courses[courseID] = courseObject\n",
    "print(\"%d Classes extracted\"%(len(classes)))\n",
    "print(\"%d Subparts extracted\"%(len(subparts)))\n",
    "print(\"%d Courses extracted\"%(len(courses)))"
   ]
  },
  {
   "cell_type": "code",
   "execution_count": 4,
   "metadata": {},
   "outputs": [
    {
     "output_type": "stream",
     "name": "stdout",
     "text": [
      "664 Hard Constraints extracted\n7 Soft Constraints extracted\n"
     ]
    }
   ],
   "source": [
    "#Initializing constraint lists\n",
    "hardConstraints = []\n",
    "softConstraints = []\n",
    "\n",
    "#Finding all the distribution constraints from root\n",
    "distributionXML = root.findall('./distributions/distribution')\n",
    "\n",
    "#Listing the required types of constraints to be extracted\n",
    "requiredTypes = ['Precedence', 'SameAttendees', 'NotOverlap', 'SameTime', 'DifferentTime', 'MinGap', 'DifferentDays']\n",
    "\n",
    "#Iterating through all distribution constraints\n",
    "for dist in distributionXML:\n",
    "    #getting type of constraints to be checked\n",
    "    constraintType = dist.get('type')\n",
    "    #Removing the () from MinGap(G) for simpler comparison\n",
    "    constraintType = constraintType.split('(')[0]\n",
    "\n",
    "    #Checking if the current distribution's type matches any of the required types\n",
    "    if constraintType in requiredTypes:\n",
    "        #finding all classIDs and then appending to a list\n",
    "        classList = []\n",
    "        classXML = dist.findall('class')\n",
    "        for singleClass in classXML:\n",
    "            classList.append(singleClass.get('id'))\n",
    "        #Check if constraint is hard, if yes, adding it to hard constraints\n",
    "        if(dist.get('required') == 'true'):\n",
    "            hardConstraints.append(HardConstraint(constraintType, classList))\n",
    "        #If not, adding it to soft constraints\n",
    "        else:\n",
    "            penalty = dist.get('penalty')\n",
    "            softConstraints.append(SoftConstraint(constraintType, classList, penalty))\n",
    "\n",
    "print(\"%d Hard Constraints extracted\"%(len(hardConstraints)))\n",
    "print(\"%d Soft Constraints extracted\"%(len(softConstraints)))"
   ]
  },
  {
   "cell_type": "code",
   "execution_count": 5,
   "metadata": {},
   "outputs": [
    {
     "output_type": "stream",
     "name": "stdout",
     "text": [
      "1641 Students extracted\n"
     ]
    }
   ],
   "source": [
    "students = []\n",
    "#Finding all students in XML\n",
    "studentXML = root.findall('./students/student')\n",
    "\n",
    "#Iterating through all student XMLs\n",
    "for stud in studentXML:\n",
    "    studentId = stud.get('id')\n",
    "    #Finding and listing all courses enrolled\n",
    "    courseXML = stud.findall('course')\n",
    "    courseList = []\n",
    "    for singleCourse in courseXML:\n",
    "        courseID = singleCourse.get('id')\n",
    "        courseList.append(courseID)\n",
    "        #From the courses dictionary, getting the corresponding course class and appending the studentID to that course\n",
    "        courses[courseID].addStudent(studentId)\n",
    "    #Appending the new student object to student list\n",
    "    students.append(Student(studentId, courseList))\n",
    "\n",
    "print(\"%d Students extracted\"%(len(students)))\n"
   ]
  },
  {
   "cell_type": "code",
   "execution_count": null,
   "metadata": {},
   "outputs": [],
   "source": []
  }
 ]
}