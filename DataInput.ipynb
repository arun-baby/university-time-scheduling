{
 "metadata": {
  "language_info": {
   "codemirror_mode": {
    "name": "ipython",
    "version": 3
   },
   "file_extension": ".py",
   "mimetype": "text/x-python",
   "name": "python",
   "nbconvert_exporter": "python",
   "pygments_lexer": "ipython3",
   "version": "3.8.5-final"
  },
  "orig_nbformat": 2,
  "kernelspec": {
   "name": "python3",
   "display_name": "Python 3",
   "language": "python"
  }
 },
 "nbformat": 4,
 "nbformat_minor": 2,
 "cells": [
  {
   "cell_type": "code",
   "execution_count": 72,
   "metadata": {},
   "outputs": [],
   "source": [
    "import xml.etree.ElementTree as ET\n",
    "from Components import Timing, Course, Subpart, Class, HardConstraint, SoftConstraint, Student\n",
    "\n",
    "inputFile = \"agh-fis-spr17_trimmed.xml\""
   ]
  },
  {
   "cell_type": "code",
   "execution_count": 73,
   "metadata": {},
   "outputs": [],
   "source": [
    "# Passing the path of the \n",
    "# xml document to enable the \n",
    "# parsing process \n",
    "tree = ET.parse(inputFile) \n",
    "# getting the parent tag of \n",
    "# the xml document \n",
    "root = tree.getroot() "
   ]
  },
  {
   "cell_type": "code",
   "execution_count": 74,
   "metadata": {},
   "outputs": [],
   "source": [
    "coursesXML = root.findall('./courses/course')"
   ]
  },
  {
   "cell_type": "code",
   "execution_count": 75,
   "metadata": {
    "tags": []
   },
   "outputs": [
    {
     "output_type": "stream",
     "name": "stdout",
     "text": [
      "1239 Classes extracted\n665 Subparts extracted\n340 Courses extracted\n"
     ]
    }
   ],
   "source": [
    "courses = []\n",
    "subparts = []\n",
    "classes = []\n",
    "for course in coursesXML:\n",
    "    config = course.find('config')\n",
    "    courseID = course.get('id')\n",
    "    subpartXML = config.findall('subpart')\n",
    "    subpartList = []\n",
    "    for subpart in subpartXML:\n",
    "        subpartID = subpart.get('id')\n",
    "        subpartList.append(subpartID)\n",
    "        classesXML = subpart.findall('class')\n",
    "        classList = []\n",
    "        for singleClass in classesXML:\n",
    "            classID = singleClass.get('id')\n",
    "            classList.append(classID)\n",
    "            classLimit = singleClass.get('limit')\n",
    "            classParent = singleClass.get('parent')\n",
    "            timeXML = singleClass.findall('time')\n",
    "            timings = []\n",
    "            for timing in timeXML:\n",
    "                days = timing.get('days')\n",
    "                length = timing.get('length')\n",
    "                penalty = timing.get('penalty')\n",
    "                start = timing.get('start')\n",
    "                weeks = timing.get('weeks')\n",
    "                timingObject = Timing(days, length, start, weeks, penalty)\n",
    "                timings.append(timingObject)\n",
    "            classObject = Class(classID, classLimit, classParent, subpartID, courseID, timings)\n",
    "            classes.append(classObject)\n",
    "        subpartObject = Subpart(subpartID, courseID, classList)\n",
    "        subparts.append(subpartObject)\n",
    "    courseObject = Course(courseID, subpartList)\n",
    "    courses.append(courseObject)\n",
    "print(\"%d Classes extracted\"%(len(classes)))\n",
    "print(\"%d Subparts extracted\"%(len(subparts)))\n",
    "print(\"%d Courses extracted\"%(len(courses)))"
   ]
  },
  {
   "cell_type": "code",
   "execution_count": 79,
   "metadata": {},
   "outputs": [
    {
     "output_type": "stream",
     "name": "stdout",
     "text": [
      "70 Hard Constraints\n"
     ]
    },
    {
     "output_type": "error",
     "ename": "NameError",
     "evalue": "name 'Softconstraints' is not defined",
     "traceback": [
      "\u001b[1;31m---------------------------------------------------------------------------\u001b[0m",
      "\u001b[1;31mNameError\u001b[0m                                 Traceback (most recent call last)",
      "\u001b[1;32m<ipython-input-79-8364fd87db05>\u001b[0m in \u001b[0;36m<module>\u001b[1;34m\u001b[0m\n\u001b[0;32m     20\u001b[0m \u001b[1;33m\u001b[0m\u001b[0m\n\u001b[0;32m     21\u001b[0m \u001b[0mprint\u001b[0m\u001b[1;33m(\u001b[0m\u001b[1;34m\"%d Hard Constraints\"\u001b[0m\u001b[1;33m%\u001b[0m\u001b[1;33m(\u001b[0m\u001b[0mlen\u001b[0m\u001b[1;33m(\u001b[0m\u001b[0mHardconstraints\u001b[0m\u001b[1;33m)\u001b[0m\u001b[1;33m)\u001b[0m\u001b[1;33m)\u001b[0m\u001b[1;33m\u001b[0m\u001b[1;33m\u001b[0m\u001b[0m\n\u001b[1;32m---> 22\u001b[1;33m \u001b[0mprint\u001b[0m\u001b[1;33m(\u001b[0m\u001b[1;34m\"%d Soft Constraints\"\u001b[0m\u001b[1;33m%\u001b[0m\u001b[1;33m(\u001b[0m\u001b[0mlen\u001b[0m\u001b[1;33m(\u001b[0m\u001b[0mSoftconstraints\u001b[0m\u001b[1;33m)\u001b[0m\u001b[1;33m)\u001b[0m\u001b[1;33m)\u001b[0m\u001b[1;33m\u001b[0m\u001b[1;33m\u001b[0m\u001b[0m\n\u001b[0m",
      "\u001b[1;31mNameError\u001b[0m: name 'Softconstraints' is not defined"
     ]
    }
   ],
   "source": [
    "hardConstraints = []\n",
    "softConstraints = []\n",
    "distributionXML = root.findall('./distributions/distribution')\n",
    "\n",
    "requiredTypes = ['Precedence', 'NotOverlap', 'SameTime', 'DifferentTime', 'MinGap', 'DifferentDays']\n",
    "\n",
    "for dist in distributionXML:\n",
    "    constraintType = dist.get('type')\n",
    "    for checkstring in requiredTypes:\n",
    "        if checkstring in constraintType:\n",
    "            classList = []\n",
    "            classXML = dist.findall('class')\n",
    "            for singleClass in classXML:\n",
    "                classList.append(singleClass.get('id'))\n",
    "            if(dist.get('required') == 'true'):\n",
    "                hardConstraints.append(HardConstraint(constraintType, classList))\n",
    "            else:\n",
    "                penalty = dist.get('penalty')\n",
    "                softConstraints.append(SoftConstraint(constraintType, classList, penalty))\n",
    "\n",
    "print(\"%d Hard Constraints\"%(len(hardConstraints)))\n",
    "print(\"%d Soft Constraints\"%(len(softConstraints)))"
   ]
  },
  {
   "cell_type": "code",
   "execution_count": 78,
   "metadata": {},
   "outputs": [
    {
     "output_type": "stream",
     "name": "stdout",
     "text": [
      "1641 Students extracted\n"
     ]
    }
   ],
   "source": [
    "students = []\n",
    "\n",
    "studentXML = root.findall('./students/student')\n",
    "\n",
    "for stud in studentXML:\n",
    "    studentId = stud.get('id')\n",
    "    courseXML = stud.findall('course')\n",
    "    courseList = []\n",
    "    for singleCourse in courseXML:\n",
    "        courseID = singleCourse.get('id')\n",
    "        courseList.append(courseID)\n",
    "    students.append(Student(studentId, courseList))\n",
    "\n",
    "print(\"%d Students\"%(len(students)))\n"
   ]
  },
  {
   "cell_type": "code",
   "execution_count": null,
   "metadata": {},
   "outputs": [],
   "source": []
  }
 ]
}