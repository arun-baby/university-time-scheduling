{
 "cells": [
  {
   "cell_type": "code",
   "execution_count": 8,
   "metadata": {},
   "outputs": [],
   "source": [
    "import xml.etree.ElementTree as ET "
   ]
  },
  {
   "cell_type": "code",
   "execution_count": 9,
   "metadata": {},
   "outputs": [],
   "source": [
    "# Passing the path of the \n",
    "# xml document to enable the \n",
    "# parsing process \n",
    "tree = ET.parse('agh-fis-spr17.xml') "
   ]
  },
  {
   "cell_type": "code",
   "execution_count": 10,
   "metadata": {},
   "outputs": [],
   "source": [
    "# getting the parent tag of \n",
    "# the xml document \n",
    "root = tree.getroot() "
   ]
  },
  {
   "cell_type": "code",
   "execution_count": 11,
   "metadata": {},
   "outputs": [],
   "source": [
    "#Find and remove rooms tag\n",
    "rooms = root.find('rooms')\n",
    "root.remove(rooms)"
   ]
  },
  {
   "cell_type": "code",
   "execution_count": 12,
   "metadata": {},
   "outputs": [],
   "source": [
    "#Find optimization tag\n",
    "optimization = root.find('optimization')"
   ]
  },
  {
   "cell_type": "code",
   "execution_count": 13,
   "metadata": {},
   "outputs": [
    {
     "output_type": "execute_result",
     "data": {
      "text/plain": [
       "'1'"
      ]
     },
     "metadata": {},
     "execution_count": 13
    }
   ],
   "source": [
    "#remove room atribute in optimization\n",
    "optimization.attrib.pop('room')"
   ]
  },
  {
   "cell_type": "code",
   "execution_count": 14,
   "metadata": {},
   "outputs": [],
   "source": [
    "#Find courses tags\n",
    "courses = root.find('courses')"
   ]
  },
  {
   "cell_type": "code",
   "execution_count": 15,
   "metadata": {},
   "outputs": [],
   "source": [
    "#Getting all classes from all courses\n",
    "classes = courses.findall('./course/config/subpart/class')"
   ]
  },
  {
   "cell_type": "code",
   "execution_count": 16,
   "metadata": {},
   "outputs": [],
   "source": [
    "#Removig all room children from each class parent\n",
    "for Class in classes:\n",
    "    if(Class.get('room') != None):\n",
    "        Class.attrib.pop('room')\n",
    "    rooms = Class.findall('./room')\n",
    "    for room in rooms:\n",
    "        Class.remove(room)"
   ]
  },
  {
   "cell_type": "code",
   "execution_count": 17,
   "metadata": {},
   "outputs": [],
   "source": [
    "#Finding and removing same-room constraints\n",
    "distributions = root.find('distributions')\n",
    "samerooms = distributions.findall(\".//distribution[@type='SameRoom']\")\n",
    "\n",
    "for dists in samerooms:\n",
    "    distributions.remove(dists)\n",
    "\n",
    "#Finding and removing different-room constraints    \n",
    "diffrooms = distributions.findall(\".//distribution[@type='DifferentRoom']\")\n",
    "\n",
    "for dists in diffrooms:\n",
    "    distributions.remove(dists)"
   ]
  },
  {
   "cell_type": "code",
   "execution_count": 18,
   "metadata": {},
   "outputs": [],
   "source": [
    "tree.write('agh-fis-spr17_trimmed.xml')"
   ]
  },
  {
   "cell_type": "code",
   "execution_count": 19,
   "metadata": {},
   "outputs": [],
   "source": [
    "#Copying initial lines from input file\n",
    "with open(\"agh-fis-spr17.xml\") as myfile:\n",
    "    head = [next(myfile) for x in range(1)]\n",
    "\n",
    "with open('agh-fis-spr17_trimmed.xml', 'r') as trimmed:\n",
    "    content = trimmed.read() \n",
    "\n",
    "\n",
    "with open('agh-fis-spr17_trimmed.xml', 'w') as trimmed:\n",
    "    trimmed.seek(0,0)\n",
    "    trimmed.write(head[0]+'\\n'+content)"
   ]
  },
  {
   "cell_type": "code",
   "execution_count": null,
   "metadata": {},
   "outputs": [],
   "source": []
  }
 ],
 "metadata": {
  "kernelspec": {
   "display_name": "Python 3",
   "language": "python",
   "name": "python3"
  },
  "language_info": {
   "codemirror_mode": {
    "name": "ipython",
    "version": 3
   },
   "file_extension": ".py",
   "mimetype": "text/x-python",
   "name": "python",
   "nbconvert_exporter": "python",
   "pygments_lexer": "ipython3",
   "version": "3.8.5-final"
  }
 },
 "nbformat": 4,
 "nbformat_minor": 2
}