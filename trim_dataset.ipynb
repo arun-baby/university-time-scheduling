{
 "cells": [
  {
   "cell_type": "code",
   "execution_count": 197,
   "metadata": {},
   "outputs": [],
   "source": [
    "import xml.etree.ElementTree as ET "
   ]
  },
  {
   "cell_type": "code",
   "execution_count": 198,
   "metadata": {},
   "outputs": [],
   "source": [
    "# Passing the path of the \n",
    "# xml document to enable the \n",
    "# parsing process \n",
    "tree = ET.parse('bet-sum18.xml') "
   ]
  },
  {
   "cell_type": "code",
   "execution_count": 199,
   "metadata": {},
   "outputs": [],
   "source": [
    "# getting the parent tag of \n",
    "# the xml document \n",
    "root = tree.getroot() "
   ]
  },
  {
   "cell_type": "code",
   "execution_count": 200,
   "metadata": {},
   "outputs": [],
   "source": [
    "#Find and remove rooms tag\n",
    "rooms = root.find('rooms')\n",
    "root.remove(rooms)"
   ]
  },
  {
   "cell_type": "code",
   "execution_count": 201,
   "metadata": {},
   "outputs": [],
   "source": [
    "#Find optimization tag\n",
    "optimization = root.find('optimization')"
   ]
  },
  {
   "cell_type": "code",
   "execution_count": 202,
   "metadata": {},
   "outputs": [
    {
     "data": {
      "text/plain": [
       "'1'"
      ]
     },
     "execution_count": 202,
     "metadata": {},
     "output_type": "execute_result"
    }
   ],
   "source": [
    "#remove room atribute in optimization\n",
    "optimization.attrib.pop('room')"
   ]
  },
  {
   "cell_type": "code",
   "execution_count": 203,
   "metadata": {},
   "outputs": [],
   "source": [
    "#Find courses tags\n",
    "courses = root.find('courses')"
   ]
  },
  {
   "cell_type": "code",
   "execution_count": 204,
   "metadata": {},
   "outputs": [],
   "source": [
    "#Getting all classes from all courses\n",
    "classes = courses.findall('./course/config/subpart/class')"
   ]
  },
  {
   "cell_type": "code",
   "execution_count": 205,
   "metadata": {},
   "outputs": [],
   "source": [
    "#Removig all room children from each class parent\n",
    "for Class in classes:\n",
    "    if(Class.get('room') != None):\n",
    "        Class.attrib.pop('room')\n",
    "    rooms = Class.findall('./room')\n",
    "    for room in rooms:\n",
    "        Class.remove(room)"
   ]
  },
  {
   "cell_type": "code",
   "execution_count": 206,
   "metadata": {},
   "outputs": [],
   "source": [
    "#Finding and removing same-room constraints\n",
    "distributions = root.find('distributions')\n",
    "samerooms = distributions.findall(\".//distribution[@type='SameRoom']\")\n",
    "\n",
    "for dists in samerooms:\n",
    "    distributions.remove(dists)"
   ]
  },
  {
   "cell_type": "code",
   "execution_count": 207,
   "metadata": {},
   "outputs": [],
   "source": [
    "tree.write('bet-sum18_trimmed.xml')"
   ]
  },
  {
   "cell_type": "code",
   "execution_count": 208,
   "metadata": {},
   "outputs": [],
   "source": [
    "#Copying initial lines from input file\n",
    "with open(\"bet-sum18.xml\") as myfile:\n",
    "    head = [next(myfile) for x in range(1)]\n",
    "\n",
    "with open('bet-sum18_trimmed.xml', 'r') as trimmed:\n",
    "    content = trimmed.read() \n",
    "\n",
    "\n",
    "with open('bet-sum18_trimmed.xml', 'w') as trimmed:\n",
    "    trimmed.seek(0,0)\n",
    "    trimmed.write(head[0]+'\\n'+content)"
   ]
  }
 ],
 "metadata": {
  "kernelspec": {
   "display_name": "Python 3",
   "language": "python",
   "name": "python3"
  },
  "language_info": {
   "codemirror_mode": {
    "name": "ipython",
    "version": 3
   },
   "file_extension": ".py",
   "mimetype": "text/x-python",
   "name": "python",
   "nbconvert_exporter": "python",
   "pygments_lexer": "ipython3",
   "version": "3.7.4"
  }
 },
 "nbformat": 4,
 "nbformat_minor": 2
}
