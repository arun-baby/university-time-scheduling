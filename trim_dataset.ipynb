{
 "cells": [
  {
   "cell_type": "code",
   "execution_count": null,
   "metadata": {},
   "outputs": [],
   "source": [
    "import xml.etree.ElementTree as ET \n",
    "import os"
   ]
  },
  {
   "cell_type": "code",
   "execution_count": null,
   "metadata": {},
   "outputs": [],
   "source": [
    "#Input file name, change this variable for a different file\n",
    "inputFilename = 'agh-fis-spr17.xml'\n",
    "\n",
    "# Passing the path of the \n",
    "# xml document to enable the \n",
    "# parsing process \n",
    "tree = ET.parse(inputFilename) \n",
    "\n",
    "#getting just the filename without extension for output file name\n",
    "trimmedName = os.path.splitext(inputFilename)[0]"
   ]
  },
  {
   "cell_type": "code",
   "execution_count": null,
   "metadata": {},
   "outputs": [],
   "source": [
    "# getting the parent tag of \n",
    "# the xml document \n",
    "root = tree.getroot() "
   ]
  },
  {
   "cell_type": "code",
   "execution_count": null,
   "metadata": {},
   "outputs": [],
   "source": [
    "#Find and remove rooms tag\n",
    "rooms = root.find('rooms')\n",
    "root.remove(rooms)"
   ]
  },
  {
   "cell_type": "code",
   "execution_count": null,
   "metadata": {},
   "outputs": [],
   "source": [
    "#Find optimization tag\n",
    "optimization = root.find('optimization')"
   ]
  },
  {
   "cell_type": "code",
   "execution_count": null,
   "metadata": {},
   "outputs": [],
   "source": [
    "#remove room atribute in optimization\n",
    "optimization.attrib.pop('room')"
   ]
  },
  {
   "cell_type": "code",
   "execution_count": null,
   "metadata": {},
   "outputs": [],
   "source": [
    "#Find courses tags\n",
    "courses = root.find('courses')"
   ]
  },
  {
   "cell_type": "code",
   "execution_count": null,
   "metadata": {},
   "outputs": [],
   "source": [
    "#Getting all classes from all courses\n",
    "classes = courses.findall('./course/config/subpart/class')"
   ]
  },
  {
   "cell_type": "code",
   "execution_count": null,
   "metadata": {},
   "outputs": [],
   "source": [
    "#Removig all room children from each class parent\n",
    "for Class in classes:\n",
    "    if(Class.get('room') != None):\n",
    "        Class.attrib.pop('room')\n",
    "    rooms = Class.findall('./room')\n",
    "    for room in rooms:\n",
    "        Class.remove(room)"
   ]
  },
  {
   "cell_type": "code",
   "execution_count": null,
   "metadata": {},
   "outputs": [],
   "source": [
    "#Finding and removing same-room constraints\n",
    "distributions = root.find('distributions')\n",
    "samerooms = distributions.findall(\".//distribution[@type='SameRoom']\")\n",
    "\n",
    "for dists in samerooms:\n",
    "    distributions.remove(dists)\n",
    "\n",
    "#Finding and removing different-room constraints    \n",
    "diffrooms = distributions.findall(\".//distribution[@type='DifferentRoom']\")\n",
    "\n",
    "for dists in diffrooms:\n",
    "    distributions.remove(dists)"
   ]
  },
  {
   "cell_type": "code",
   "execution_count": null,
   "metadata": {},
   "outputs": [],
   "source": [
    "outputFilename = trimmedName + '_trimmed.xml'\n",
    "tree.write(outputFilename)"
   ]
  },
  {
   "cell_type": "code",
   "execution_count": null,
   "metadata": {},
   "outputs": [],
   "source": [
    "#Copying initial lines from input file\n",
    "with open(inputFilename) as myfile:\n",
    "    head = [next(myfile) for x in range(1)]\n",
    "\n",
    "with open(outputFilename, 'r') as trimmed:\n",
    "    content = trimmed.read() \n",
    "\n",
    "\n",
    "with open(outputFilename, 'w') as trimmed:\n",
    "    trimmed.seek(0,0)\n",
    "    trimmed.write(head[0]+'\\n'+content)"
   ]
  }
 ],
 "metadata": {
  "kernelspec": {
   "display_name": "Python 3",
   "language": "python",
   "name": "python3"
  },
  "language_info": {
   "codemirror_mode": {
    "name": "ipython",
    "version": 3
   },
   "file_extension": ".py",
   "mimetype": "text/x-python",
   "name": "python",
   "nbconvert_exporter": "python",
   "pygments_lexer": "ipython3",
   "version": "3.8.5-final"
  }
 },
 "nbformat": 4,
 "nbformat_minor": 2
}