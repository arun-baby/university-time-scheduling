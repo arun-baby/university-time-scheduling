{
 "cells": [
  {
   "cell_type": "code",
   "execution_count": 37,
   "metadata": {},
   "outputs": [],
   "source": [
    "import xml.etree.ElementTree as ET \n",
    "import os"
   ]
  },
  {
   "cell_type": "code",
   "execution_count": 38,
   "metadata": {},
   "outputs": [],
   "source": [
    "#Input file name, change this variable for a different file\n",
    "inputFilename = 'wbg-fal10.xml'\n",
    "\n",
    "# Passing the path of the \n",
    "# xml document to enable the \n",
    "# parsing process \n",
    "tree = ET.parse(inputFilename) \n",
    "\n",
    "#getting just the filename without extension for output file name\n",
    "trimmedName = os.path.splitext(inputFilename)[0]"
   ]
  },
  {
   "cell_type": "code",
   "execution_count": 39,
   "metadata": {},
   "outputs": [],
   "source": [
    "# getting the parent tag of \n",
    "# the xml document \n",
    "root = tree.getroot() "
   ]
  },
  {
   "cell_type": "code",
   "execution_count": 40,
   "metadata": {},
   "outputs": [],
   "source": [
    "#Find and remove rooms tag\n",
    "rooms = root.find('rooms')\n",
    "root.remove(rooms)"
   ]
  },
  {
   "cell_type": "code",
   "execution_count": 41,
   "metadata": {},
   "outputs": [],
   "source": [
    "#Find optimization tag\n",
    "optimization = root.find('optimization')\n",
    "root.remove(optimization)"
   ]
  },
  {
   "cell_type": "code",
   "execution_count": 42,
   "metadata": {},
   "outputs": [],
   "source": [
    "#Find courses tags\n",
    "courses = root.find('courses')"
   ]
  },
  {
   "cell_type": "code",
   "execution_count": 43,
   "metadata": {},
   "outputs": [],
   "source": [
    "#Getting all classes from all courses\n",
    "classes = courses.findall('./course/config/subpart/class')"
   ]
  },
  {
   "cell_type": "code",
   "execution_count": 44,
   "metadata": {},
   "outputs": [],
   "source": [
    "#Removig all room children from each class parent\n",
    "for Class in classes:\n",
    "    if(Class.get('room') != None):\n",
    "        Class.attrib.pop('room')\n",
    "    rooms = Class.findall('./room')\n",
    "    for room in rooms:\n",
    "        Class.remove(room)"
   ]
  },
  {
   "cell_type": "code",
   "execution_count": 45,
   "metadata": {
    "tags": []
   },
   "outputs": [],
   "source": [
    "distRoot = root.find('distributions')\n",
    "\n",
    "#Finding and removing same-room constraints\n",
    "distributionsXML = distRoot.findall('./distribution')\n",
    "#Listing the required types of constraints to be extracted\n",
    "#softTypes = ['SameTime', 'DifferentTime', 'MinGap', 'DifferentDays']\n",
    "softTypes = ['DifferentTime', 'DifferentDays']\n",
    "#hardTypes = ['Precedence', 'SameAttendees', 'NotOverlap']\n",
    "hardTypes = ['NotOverlap', 'SameAttendees']\n",
    "#Iterating through all distribution constraints\n",
    "\n",
    "for dist in distributionsXML:\n",
    "    #getting type of constraints to be checked\n",
    "    constraintType = dist.get('type')\n",
    "    #Removing the () from MinGap(G) for simpler comparison\n",
    "    constraintType = constraintType.split('(')[0]\n",
    "    #Setting default value to False for keeping current constraint\n",
    "    keep = False\n",
    "    #Checking if the current type is in Soft constraint types\n",
    "    if constraintType in softTypes:\n",
    "        #Checking if the given constraint is soft (all soft constriants will have penalty value)\n",
    "        if dist.get('penalty') is not None:\n",
    "            keep = True\n",
    "\n",
    "    #Checking if the current type is in Hard constraint types\n",
    "    elif constraintType in hardTypes:\n",
    "        #Checking if the given constraint is hard (all hard constriants will have reqired as true)\n",
    "        if(dist.get('required') == 'true'):\n",
    "            keep = True\n",
    "            #Replacing SameAttendees with NotOverlap\n",
    "            if constraintType in 'SameAttendees':\n",
    "                dist.set('type', 'NotOverlap')\n",
    "\n",
    "    #If the current constraint is not required, the keep value is never changed to True and hence removing the same from constraints\n",
    "    if keep is False:\n",
    "        distRoot.remove(dist)\n",
    "        \n",
    "        "
   ]
  },
  {
   "cell_type": "code",
   "execution_count": 46,
   "metadata": {},
   "outputs": [],
   "source": [
    "outputFilename = trimmedName + '_trimmed.xml'\n",
    "tree.write(outputFilename)"
   ]
  },
  {
   "cell_type": "code",
   "execution_count": 47,
   "metadata": {},
   "outputs": [],
   "source": [
    "#Copying initial lines from input file\n",
    "with open(inputFilename) as myfile:\n",
    "    head = [next(myfile) for x in range(1)]\n",
    "\n",
    "with open(outputFilename, 'r') as trimmed:\n",
    "    content = trimmed.read() \n",
    "\n",
    "\n",
    "with open(outputFilename, 'w') as trimmed:\n",
    "    trimmed.seek(0,0)\n",
    "    trimmed.write(head[0]+'\\n'+content)"
   ]
  },
  {
   "cell_type": "code",
   "execution_count": 96,
   "metadata": {},
   "outputs": [
    {
     "output_type": "execute_result",
     "data": {
      "text/plain": [
       "'wbg-fal10_trimmed.xml'"
      ]
     },
     "metadata": {},
     "execution_count": 96
    }
   ],
   "source": [
    "from DatasetOps.Trimmer import Trimmer\n",
    "\n",
    "hards = ['NotOverlap', 'SameAttendees']\n",
    "softs = ['DifferentTime', 'DifferentDays']\n",
    "\n",
    "trimmer = Trimmer(inputFilename)\n",
    "trimmer.getTrimmedFile()"
   ]
  },
  {
   "cell_type": "code",
   "execution_count": null,
   "metadata": {},
   "outputs": [],
   "source": []
  }
 ],
 "metadata": {
  "kernelspec": {
   "display_name": "Python 3",
   "language": "python",
   "name": "python3"
  },
  "language_info": {
   "codemirror_mode": {
    "name": "ipython",
    "version": 3
   },
   "file_extension": ".py",
   "mimetype": "text/x-python",
   "name": "python",
   "nbconvert_exporter": "python",
   "pygments_lexer": "ipython3",
   "version": "3.8.5-final"
  }
 },
 "nbformat": 4,
 "nbformat_minor": 2
}