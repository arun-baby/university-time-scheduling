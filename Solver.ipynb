{
 "metadata": {
  "language_info": {
   "codemirror_mode": {
    "name": "ipython",
    "version": 3
   },
   "file_extension": ".py",
   "mimetype": "text/x-python",
   "name": "python",
   "nbconvert_exporter": "python",
   "pygments_lexer": "ipython3",
   "version": "3.8.5-final"
  },
  "orig_nbformat": 2,
  "kernelspec": {
   "name": "python3",
   "display_name": "Python 3",
   "language": "python"
  }
 },
 "nbformat": 4,
 "nbformat_minor": 2,
 "cells": [
  {
   "cell_type": "code",
   "execution_count": 17,
   "metadata": {},
   "outputs": [],
   "source": [
    "import xml.etree.ElementTree as ET \n",
    "import os\n",
    "from Preprocessing import Preprocessing\n",
    "import numpy as np"
   ]
  },
  {
   "cell_type": "code",
   "execution_count": 18,
   "metadata": {},
   "outputs": [],
   "source": [
    "#Path to input file, before trimming\n",
    "inputFilename = 'wbg-fal10.xml'\n",
    "\n",
    "#Constraints required, SameAttendees are converted to NotOverlap\n",
    "hards = ['NotOverlap', 'SameAttendees']\n",
    "softs = ['DifferentTime', 'DifferentDays']"
   ]
  },
  {
   "cell_type": "code",
   "execution_count": 19,
   "metadata": {},
   "outputs": [],
   "source": [
    "#Trims the input file and outputs the trimmed filename\n",
    "outputfile = Preprocessing.getTrimmedFile(inputFilename, hards, softs)"
   ]
  },
  {
   "cell_type": "code",
   "execution_count": 20,
   "metadata": {},
   "outputs": [
    {
     "output_type": "stream",
     "name": "stdout",
     "text": [
      "150 Classes extracted\n35 Subparts extracted\n21 Courses extracted\n56 Hard Constraints extracted\n0 Soft Constraints extracted\n19 Students extracted\n"
     ]
    }
   ],
   "source": [
    "#Extracts the data from trimmed file\n",
    "courses, subparts, classes, hardConstraints, softConstraints, students = Preprocessing.extractData(outputfile)"
   ]
  },
  {
   "cell_type": "code",
   "execution_count": 21,
   "metadata": {},
   "outputs": [],
   "source": [
    "import random\n",
    "# A class's 'selected' attribute index of the currently selected timing, which is initialized as -1\n",
    "# This loop assigns a random index to 'selected'. This index is always less than the number of timings available with each class\n",
    "for classID in classes.keys():\n",
    "    classes[classID].selected = random.randrange(len(classes[classID].availTimes))"
   ]
  },
  {
   "cell_type": "code",
   "execution_count": 23,
   "metadata": {},
   "outputs": [],
   "source": [
    "#function to check if 2 timings are overlapping\n",
    "def isOverlapped(timing1, timing2):\n",
    "    #getting start and end times for both timings\n",
    "    t1start = int(timing1.start)\n",
    "    t2start = int(timing2.start)\n",
    "    t1end = t1start + int(timing1.length)\n",
    "    t2end = t2start + int(timing2.length)\n",
    "    #Count of overlapping days\n",
    "    count = 0\n",
    "\n",
    "    \n",
    "    #number of 5-min timeslots overlapped\n",
    "    dailyOverlap = 0\n",
    "\n",
    "    #this if is to check if the time of the classes are overlapping. \n",
    "    #classes will overlap only if the time of the class overlap on any day\n",
    "    if (t1end >= t2start) or (t2end >= t1start):\n",
    "        #interate through all days of the semester\n",
    "        for i in range(0, timing1.tdays_np.size):\n",
    "            #Checks if class occur on the same day at any day of the semester\n",
    "            if (timing1.tdays_np[i] + timing2.tdays_np[i]) == 2:\n",
    "                #Add one to days overlapped\n",
    "                count = count + 1\n",
    "        #Calculates the daily overlap if classes occur at any same day\n",
    "        if(count>0):\n",
    "            if(t1end >= t2start):\n",
    "                dailyOverlap = t1end - t2start + 1\n",
    "            elif(t2end >= t1start):\n",
    "                dailyOverlap = t2end - t1start + 1\n",
    "\n",
    "    #Total 5-min timeslots overlapped in a semester\n",
    "    violations = count*dailyOverlap\n",
    "\n",
    "    return violations, dailyOverlap, count"
   ]
  },
  {
   "cell_type": "code",
   "execution_count": 24,
   "metadata": {},
   "outputs": [],
   "source": [
    "#Check for two timings for DifferentTime constraints\n",
    "def getSameTimeslots(timing1, timing2):\n",
    "    #getting start and end times for both timings\n",
    "    t1start = int(timing1.start)\n",
    "    t2start = int(timing2.start)\n",
    "    t1end = t1start + int(timing1.length)\n",
    "    t2end = t2start + int(timing2.length)\n",
    "\n",
    "    #Total overlap in time regardless of day or week\n",
    "    overlapLength = 0\n",
    "\n",
    "    #Calculates the daily overlap if classes occur at any same day\n",
    "    if(t1end >= t2start):\n",
    "        overlapLength = t1end - t2start + 1\n",
    "    elif(t2end >= t1start):\n",
    "        overlapLength = t2end - t1start + 1\n",
    "\n",
    "    #Returns the overlap length\n",
    "    return overlapLength"
   ]
  },
  {
   "cell_type": "code",
   "execution_count": 25,
   "metadata": {},
   "outputs": [],
   "source": [
    "#Check for timings for DifferentDay timings \n",
    "def getSameDays(timing1, timing2):\n",
    "    #getting days data from both timings\n",
    "    t1d = list(timing1.days)\n",
    "    t2d = list(timing2.days)\n",
    "\n",
    "    #Count for days overlapped\n",
    "    count = 0\n",
    "    #Iterate through all days of the the week\n",
    "    for i in range(0, 7):\n",
    "        #Checks if class occur on the same day at any day of the semester\n",
    "        if (t1d[i] == t1d[i]):\n",
    "            #Add one to days overlapped\n",
    "            count = count + 1\n",
    "\n",
    "    #return number of days the classes occur on the same day\n",
    "    return count"
   ]
  },
  {
   "cell_type": "code",
   "execution_count": 26,
   "metadata": {
    "tags": []
   },
   "outputs": [
    {
     "output_type": "stream",
     "name": "stdout",
     "text": [
      "71104\n"
     ]
    }
   ],
   "source": [
    "from itertools import combinations\n",
    "\n",
    "#Total violations for all constraints\n",
    "totalHardViolations = 0\n",
    "\n",
    "#Iterating all hard constraints\n",
    "for hard in hardConstraints:\n",
    "    #Check if type is 'NotOverlap'\n",
    "    if hard.type == 'NotOverlap':\n",
    "\n",
    "        #Getting list of classes for the corresponding constraint\n",
    "        classList = hard.classes\n",
    "        \n",
    "        #Getting all possible pairs from the list\n",
    "        pairs = list(combinations(classList, 2)) \n",
    "        \n",
    "        #Iterating through all the pairs\n",
    "        for pair in pairs:\n",
    "            #Unpacking thepair\n",
    "            class1ID, class2ID = pair\n",
    "            #Extracting class timings\n",
    "            \n",
    "            class1Timing = classes[class1ID].availTimes[classes[class1ID].selected]\n",
    "            \n",
    "            class2Timing = classes[class2ID].availTimes[classes[class2ID].selected]\n",
    "\n",
    "\n",
    "            #Getting 'NonOverlap' violations\n",
    "            violations, dailyOverlap, count = isOverlapped(class1Timing, class2Timing)\n",
    "            \n",
    "            #Adding to total violations\n",
    "            totalHardViolations = totalHardViolations + violations\n",
    "\n",
    "print(totalHardViolations)\n",
    "        \n",
    "            \n",
    "\n",
    "        "
   ]
  },
  {
   "cell_type": "code",
   "execution_count": 27,
   "metadata": {},
   "outputs": [
    {
     "output_type": "stream",
     "name": "stdout",
     "text": [
      "0\n"
     ]
    }
   ],
   "source": [
    "#Total violations for all constraints\n",
    "totalSoftPenalty = 0\n",
    "\n",
    "#Iterating all hard constraints\n",
    "for soft in softConstraints:\n",
    "    #Getting list of classes for the corresponding constraint\n",
    "    classList = soft.classes\n",
    "        \n",
    "    #Getting all possible pairs from the list\n",
    "    pairs = list(combinations(classList, 2)) \n",
    "        \n",
    "    constraintTotal = 0\n",
    "    #Iterating through all the pairs\n",
    "    for pair in pairs:\n",
    "        #Unpacking thepair\n",
    "        class1ID, class2ID = pair\n",
    "        #Extracting class timings\n",
    "        class1Timing = classes[class1ID].availTimes[classes[class1ID].selected]\n",
    "        class2Timing = classes[class2ID].availTimes[classes[class2ID].selected]\n",
    "\n",
    "        #Check for 'DifferentTime'\n",
    "        if(soft.type == 'DifferentTime'):\n",
    "            overlaps = getSameTimeslots(class1Timing, class2Timing)\n",
    "            constraintTotal = constraintTotal + overlaps\n",
    "        \n",
    "        #Check for 'DifferentDays'\n",
    "        elif(soft.type == 'DifferentDays'):\n",
    "            count = getSameDays(class1Timing, class2Timing)\n",
    "            constraintTotal = constraintTotal + count\n",
    "\n",
    "    #Adding to total soft penalty after multiplying with penalty corresponding to that soft constraint\n",
    "    totalSoftPenalty = constraintTotal*int(soft.penalty)\n",
    "        \n",
    "\n",
    "print(totalSoftPenalty)"
   ]
  },
  {
   "cell_type": "code",
   "execution_count": 28,
   "metadata": {},
   "outputs": [
    {
     "output_type": "stream",
     "name": "stdout",
     "text": [
      "208\n"
     ]
    }
   ],
   "source": [
    "#Timing penalty calculation\n",
    "totalTimingPenalty = 0\n",
    "\n",
    "#Iterating through all the classes\n",
    "for classID in classes.keys():\n",
    "    #Getting selected timing from each class\n",
    "    selectedTiming = classes[classID].availTimes[classes[classID].selected]\n",
    "    #Adding penalty of selected timing to total timings penalty\n",
    "    totalTimingPenalty = totalTimingPenalty + int(selectedTiming.penalty)\n",
    "\n",
    "print(totalTimingPenalty)"
   ]
  },
  {
   "cell_type": "code",
   "execution_count": null,
   "metadata": {},
   "outputs": [],
   "source": []
  }
 ]
}