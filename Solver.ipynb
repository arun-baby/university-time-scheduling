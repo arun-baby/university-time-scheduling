{
 "metadata": {
  "language_info": {
   "codemirror_mode": {
    "name": "ipython",
    "version": 3
   },
   "file_extension": ".py",
   "mimetype": "text/x-python",
   "name": "python",
   "nbconvert_exporter": "python",
   "pygments_lexer": "ipython3",
   "version": "3.8.5-final"
  },
  "orig_nbformat": 2,
  "kernelspec": {
   "name": "python3",
   "display_name": "Python 3",
   "language": "python"
  }
 },
 "nbformat": 4,
 "nbformat_minor": 2,
 "cells": [
  {
   "cell_type": "code",
   "execution_count": 11,
   "metadata": {},
   "outputs": [],
   "source": [
    "import xml.etree.ElementTree as ET \n",
    "import os\n",
    "from Preprocessing import Preprocessing\n",
    "import numpy as np"
   ]
  },
  {
   "cell_type": "code",
   "execution_count": 12,
   "metadata": {},
   "outputs": [],
   "source": [
    "#Path to input file, before trimming\n",
    "inputFilename = 'agh-fis-spr17.xml'\n",
    "\n",
    "#Constraints required, SameAttendees are converted to NotOverlap\n",
    "hards = ['NotOverlap', 'SameAttendees']\n",
    "softs = ['DifferentTime', 'DifferentDays']"
   ]
  },
  {
   "cell_type": "code",
   "execution_count": 13,
   "metadata": {},
   "outputs": [],
   "source": [
    "#Trims the input file and outputs the trimmed filename\n",
    "outputfile = Preprocessing.getTrimmedFile(inputFilename, hards, softs)"
   ]
  },
  {
   "cell_type": "code",
   "execution_count": 14,
   "metadata": {},
   "outputs": [
    {
     "output_type": "stream",
     "name": "stdout",
     "text": [
      "1239 Classes extracted\n665 Subparts extracted\n340 Courses extracted\n660 Hard Constraints extracted\n3 Soft Constraints extracted\n1641 Students extracted\n"
     ]
    }
   ],
   "source": [
    "#Extracts the data from trimmed file\n",
    "courses, subparts, classes, hardConstraints, softConstraints, students = Preprocessing.extractData(outputfile)"
   ]
  },
  {
   "cell_type": "code",
   "execution_count": 15,
   "metadata": {},
   "outputs": [],
   "source": [
    "import random"
   ]
  },
  {
   "cell_type": "code",
   "execution_count": 28,
   "metadata": {},
   "outputs": [],
   "source": [
    "# A class's 'selected' attribute index of the currently selected timing, which is initialized as -1\n",
    "# This loop assigns a random index to 'selected'. This index is always less than the number of timings available with each class\n",
    "for classID in classes.keys():\n",
    "    classes[classID].selected = random.randrange(len(classes[classID].availTimes))"
   ]
  },
  {
   "cell_type": "code",
   "execution_count": 29,
   "metadata": {},
   "outputs": [],
   "source": [
    "timing1 = classes['1'].availTimes[classes['1'].selected]\n",
    "timing2 = classes['2'].availTimes[classes['2'].selected]"
   ]
  },
  {
   "cell_type": "code",
   "execution_count": 36,
   "metadata": {},
   "outputs": [
    {
     "output_type": "stream",
     "name": "stdout",
     "text": [
      "0\n"
     ]
    }
   ],
   "source": [
    "#function to check if 2 timings are overlapping\n",
    "def isOverlapped(timing1, timing2)\n",
    "    #getting start and end times for both timings\n",
    "    t1start = timing1.start\n",
    "    t2start = timing2.start\n",
    "    t1end = t1start + timing1.length\n",
    "    t2end = t2start + timing2.length\n",
    "    #Count of overlapping days\n",
    "    count = 0\n",
    "\n",
    "    #number of 5-min timeslots overlapped\n",
    "    dailyOverlap = 0\n",
    "\n",
    "    #this if is to check if the time of the classes are overlapping. \n",
    "    #classes will overlap only if the time of the class overlap on any day\n",
    "    if (t1end >= t2start) or (t2end >= t1start):\n",
    "        #interate through all days of the semester\n",
    "        for i in range(0, timing1.tdays_np.size):\n",
    "            #Checks if class occur on the same day at any day of the semester\n",
    "            if (timing1.tdays_np[i] + timing2.tdays_np[i]) == 2:\n",
    "                #Add one to days overlapped\n",
    "                count = count + 1\n",
    "        #Calculates the daily overlap if classes occur at any same day\n",
    "        if(count>0):\n",
    "            if(t1end >= t2start):\n",
    "                dailyOverlap = t1end - t2start + 1\n",
    "            elif(t2end >= t1start):\n",
    "                dailyOverlap = t2end - t1start + 1\n",
    "\n",
    "    #Total 5-min timeslots overlapped in a semester\n",
    "    violations = count*dailyOverlap\n",
    "\n",
    "    return violations, dailyOverlap, count"
   ]
  },
  {
   "cell_type": "code",
   "execution_count": 106,
   "metadata": {},
   "outputs": [],
   "source": [
    "\n",
    "\n",
    "\n"
   ]
  },
  {
   "cell_type": "code",
   "execution_count": 104,
   "metadata": {},
   "outputs": [],
   "source": []
  },
  {
   "cell_type": "code",
   "execution_count": 105,
   "metadata": {},
   "outputs": [],
   "source": []
  },
  {
   "cell_type": "code",
   "execution_count": 92,
   "metadata": {},
   "outputs": [
    {
     "output_type": "execute_result",
     "data": {
      "text/plain": [
       "array([1., 0., 0., 0., 0., 0., 0., 1., 0., 0., 0., 0., 0., 0., 1., 0., 0.,\n",
       "       0., 0., 0., 0., 1., 0., 0., 0., 0., 0., 0., 1., 0., 0., 0., 0., 0.,\n",
       "       0., 1., 0., 0., 0., 0., 0., 0., 1., 0., 0., 0., 0., 0., 0., 0., 0.,\n",
       "       0., 0., 0., 0., 0., 1., 0., 0., 0., 0., 0., 0., 0., 0., 0., 0., 0.,\n",
       "       0., 0., 1., 0., 0., 0., 0., 0., 0., 1., 0., 0., 0., 0., 0., 0., 1.,\n",
       "       0., 0., 0., 0., 0., 0., 1., 0., 0., 0., 0., 0., 0., 1., 0., 0., 0.,\n",
       "       0., 0., 0., 1., 0., 0., 0., 0., 0., 0.])"
      ]
     },
     "metadata": {},
     "execution_count": 92
    }
   ],
   "source": [
    "tdays_np"
   ]
  },
  {
   "cell_type": "code",
   "execution_count": null,
   "metadata": {},
   "outputs": [],
   "source": []
  }
 ]
}