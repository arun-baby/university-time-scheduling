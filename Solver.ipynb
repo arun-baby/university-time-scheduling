{
 "metadata": {
  "language_info": {
   "codemirror_mode": {
    "name": "ipython",
    "version": 3
   },
   "file_extension": ".py",
   "mimetype": "text/x-python",
   "name": "python",
   "nbconvert_exporter": "python",
   "pygments_lexer": "ipython3",
   "version": "3.8.5-final"
  },
  "orig_nbformat": 2,
  "kernelspec": {
   "name": "python3",
   "display_name": "Python 3",
   "language": "python"
  }
 },
 "nbformat": 4,
 "nbformat_minor": 2,
 "cells": [
  {
   "cell_type": "code",
   "execution_count": 52,
   "metadata": {},
   "outputs": [],
   "source": [
    "import xml.etree.ElementTree as ET \n",
    "import os\n",
    "from Preprocessing import Preprocessing\n",
    "import numpy as np"
   ]
  },
  {
   "cell_type": "code",
   "execution_count": 53,
   "metadata": {},
   "outputs": [],
   "source": [
    "#Path to input file, before trimming\n",
    "inputFilename = 'agh-fis-spr17.xml'\n",
    "\n",
    "#Constraints required, SameAttendees are converted to NotOverlap\n",
    "hards = ['NotOverlap', 'SameAttendees']\n",
    "softs = ['DifferentTime', 'DifferentDays']"
   ]
  },
  {
   "cell_type": "code",
   "execution_count": 54,
   "metadata": {},
   "outputs": [],
   "source": [
    "#Trims the input file and outputs the trimmed filename\n",
    "outputfile = Preprocessing.getTrimmedFile(inputFilename, hards, softs)"
   ]
  },
  {
   "cell_type": "code",
   "execution_count": 55,
   "metadata": {},
   "outputs": [
    {
     "output_type": "stream",
     "name": "stdout",
     "text": [
      "1239 Classes extracted\n665 Subparts extracted\n340 Courses extracted\n657 Hard Constraints extracted\n3 Soft Constraints extracted\n1641 Students extracted\n"
     ]
    }
   ],
   "source": [
    "#Extracts the data from trimmed file\n",
    "courses, subparts, classes, hardConstraints, softConstraints, students = Preprocessing.extractData(outputfile)"
   ]
  },
  {
   "cell_type": "code",
   "execution_count": 56,
   "metadata": {},
   "outputs": [],
   "source": [
    "import random\n",
    "\n",
    "# This loop assigns a random index and the number of available times for each class. This is stored as a tuple in a dictionary using classID as key. This index is always less than the number of timings available with each class.\n",
    "\n",
    "solution_template = {}\n",
    "\n",
    "for classID in classes.keys():\n",
    "    solution_template[classID] = (random.randrange(len(classes[classID].availTimes)), len(classes[classID].availTimes))\n",
    "    #print(solution_template[classID])"
   ]
  },
  {
   "cell_type": "code",
   "execution_count": 44,
   "metadata": {},
   "outputs": [],
   "source": [
    "#Check for two timings for DifferentTime constraints\n",
    "def getSameTimeslots(timing1, timing2):\n",
    "    #getting start and end times for both timings\n",
    "    t1start = int(timing1.start)\n",
    "    t2start = int(timing2.start)\n",
    "    t1end = t1start + int(timing1.length)\n",
    "    t2end = t2start + int(timing2.length)\n",
    "\n",
    "    #Total overlap in time regardless of day or week\n",
    "    overlapLength = 0\n",
    "\n",
    "    #Calculates the daily overlap if classes occur at any same day\n",
    "    if(t1end >= t2start):\n",
    "        overlapLength = t1end - t2start + 1\n",
    "    elif(t2end >= t1start):\n",
    "        overlapLength = t2end - t1start + 1\n",
    "\n",
    "    print(f\"Overlapping timeslots: {overlapLength}\")\n",
    "    #Returns the overlap length\n",
    "    return overlapLength"
   ]
  },
  {
   "cell_type": "code",
   "execution_count": 45,
   "metadata": {},
   "outputs": [],
   "source": [
    "#Check for timings for DifferentDay timings \n",
    "def getSameDays(timing1, timing2):\n",
    "    #getting days data from both timings\n",
    "    t1d = list(timing1.days)\n",
    "    t2d = list(timing2.days)\n",
    "\n",
    "    #Count for days overlapped\n",
    "    count = 0\n",
    "    #Iterate through all days of the the week\n",
    "    for i in range(0, 7):\n",
    "        #Checks if class occur on the same day at any day of the semester\n",
    "        if (t1d[i] == t1d[i]):\n",
    "            #Add one to days overlapped\n",
    "            count = count + 1\n",
    "\n",
    "    print(f\"Overlapping days: {count}\")\n",
    "    #return number of days the classes occur on the same day\n",
    "    return count"
   ]
  },
  {
   "cell_type": "code",
   "execution_count": 63,
   "metadata": {},
   "outputs": [],
   "source": [
    "#function to check if 2 timings are overlapping\n",
    "def isOverlapped(timing1, timing2):\n",
    "    #getting start and end times for both timings\n",
    "    t1start = int(timing1.start)\n",
    "    t2start = int(timing2.start)\n",
    "    t1end = t1start + int(timing1.length)\n",
    "    t2end = t2start + int(timing2.length)\n",
    "    #Count of overlapping days\n",
    "    count = 0\n",
    "\n",
    "    \n",
    "    #number of 5-min timeslots overlapped\n",
    "    dailyOverlap = 0\n",
    "\n",
    "    #this if is to check if the time of the classes are overlapping. \n",
    "    #classes will overlap only if the time of the class overlap on any day\n",
    "    if (t1end >= t2start) or (t2end >= t1start):\n",
    "        #interate through all days of the semester\n",
    "        for i in range(0, timing1.tdays_np.size):\n",
    "            #Checks if class occur on the same day at any day of the semester\n",
    "            if (timing1.tdays_np[i] + timing2.tdays_np[i]) == 2:\n",
    "                #Add one to days overlapped\n",
    "                count = count + 1\n",
    "        #Calculates the daily overlap if classes occur at any same day\n",
    "        if(count>0):\n",
    "            if(t1end >= t2start):\n",
    "                dailyOverlap = t1end - t2start + 1\n",
    "            elif(t2end >= t1start):\n",
    "                dailyOverlap = t2end - t1start + 1\n",
    "\n",
    "    #Total 5-min timeslots overlapped in a semester\n",
    "    violations = count*dailyOverlap\n",
    "    #print(f\"Total timeslot overlaps: {violations}, daily overlap: {dailyOverlap}, days overlapped: {count}\")\n",
    "    return violations, dailyOverlap, count"
   ]
  },
  {
   "cell_type": "code",
   "execution_count": 62,
   "metadata": {
    "tags": []
   },
   "outputs": [],
   "source": [
    "from itertools import combinations\n",
    "\n",
    "def getHardPenalty(solution):\n",
    "    #Total violations for all constraints\n",
    "    totalHardViolations = 0\n",
    "\n",
    "    #Iterating all hard constraints\n",
    "    for hard in hardConstraints:\n",
    "        #Check if type is 'NotOverlap'\n",
    "        if hard.type == 'NotOverlap':\n",
    "\n",
    "            #Getting list of classes for the corresponding constraint\n",
    "            classList = hard.classes\n",
    "            \n",
    "            #Getting all possible pairs from the list\n",
    "            pairs = list(combinations(classList, 2)) \n",
    "            \n",
    "            #Iterating through all the pairs\n",
    "            for pair in pairs:\n",
    "                #Unpacking thepair\n",
    "                class1ID, class2ID = pair\n",
    "                #Extracting class timings\n",
    "                class1Index,_ = solution[class1ID]\n",
    "                class2Index,_ = solution[class2ID]\n",
    "                class1Timing = classes[class1ID].availTimes[class1Index]\n",
    "                \n",
    "                class2Timing = classes[class2ID].availTimes[class2Index]\n",
    "\n",
    "\n",
    "                #Getting 'NonOverlap' violations\n",
    "                violations, dailyOverlap, count = isOverlapped(class1Timing, class2Timing)\n",
    "                \n",
    "                #Adding to total violations\n",
    "                totalHardViolations = totalHardViolations + violations\n",
    "\n",
    "    print(f\"Total Hard penalty: {totalHardViolations}\")\n",
    "    return totalHardViolations    \n",
    "            \n",
    "\n",
    "        "
   ]
  },
  {
   "cell_type": "code",
   "execution_count": 48,
   "metadata": {},
   "outputs": [],
   "source": [
    "\n",
    "def getSoftPenalty(solution):\n",
    "    \n",
    "    #Total violations for all constraints\n",
    "    totalSoftPenalty = 0\n",
    "\n",
    "    #Iterating all hard constraints\n",
    "    for soft in softConstraints:\n",
    "        #Getting list of classes for the corresponding constraint\n",
    "        classList = soft.classes\n",
    "            \n",
    "        #Getting all possible pairs from the list\n",
    "        pairs = list(combinations(classList, 2)) \n",
    "            \n",
    "        constraintTotal = 0\n",
    "        #Iterating through all the pairs\n",
    "        for pair in pairs:\n",
    "            #Unpacking thepair\n",
    "            class1ID, class2ID = pair\n",
    "            #Extracting class timings\n",
    "            class1Index,_ = solution[class1ID]\n",
    "            class2Index,_ = solution[class2ID]\n",
    "            class1Timing = classes[class1ID].availTimes[class1Index]\n",
    "            class2Timing = classes[class2ID].availTimes[class2Index]\n",
    "\n",
    "            #Check for 'DifferentTime'\n",
    "            if(soft.type == 'DifferentTime'):\n",
    "                overlaps = getSameTimeslots(class1Timing, class2Timing)\n",
    "                constraintTotal = constraintTotal + overlaps\n",
    "            \n",
    "            #Check for 'DifferentDays'\n",
    "            elif(soft.type == 'DifferentDays'):\n",
    "                count = getSameDays(class1Timing, class2Timing)\n",
    "                constraintTotal = constraintTotal + count\n",
    "\n",
    "        #Adding to total soft penalty after multiplying with penalty corresponding to that soft constraint\n",
    "        totalSoftPenalty = constraintTotal*int(soft.penalty)\n",
    "    print(f\"Soft Penalty: {totalSoftPenalty}\")\n",
    "    return totalSoftPenalty\n"
   ]
  },
  {
   "cell_type": "code",
   "execution_count": 50,
   "metadata": {},
   "outputs": [],
   "source": [
    "\n",
    "def getTimingPenalty(solution):\n",
    "    #Timing penalty calculation\n",
    "    totalTimingPenalty = 0\n",
    "\n",
    "    #Iterating through all the classes\n",
    "    for classID in classes.keys():\n",
    "        #Getting selected timing from each class\n",
    "        selectedIndex,_ = solution[classID]\n",
    "        selectedTiming = classes[classID].availTimes[selectedIndex]\n",
    "        #Adding penalty of selected timing to total timings penalty\n",
    "        totalTimingPenalty = totalTimingPenalty + int(selectedTiming.penalty)\n",
    "\n",
    "    print(f\"Timing Penalty: {totalTimingPenalty}\")\n",
    "    return totalTimingPenalty"
   ]
  },
  {
   "cell_type": "code",
   "execution_count": 51,
   "metadata": {},
   "outputs": [
    {
     "output_type": "stream",
     "name": "stdout",
     "text": [
      "Timing Penalty: 1523\n"
     ]
    },
    {
     "output_type": "execute_result",
     "data": {
      "text/plain": [
       "1523"
      ]
     },
     "metadata": {},
     "execution_count": 51
    }
   ],
   "source": [
    "getTimingPenalty(solution_template)"
   ]
  },
  {
   "cell_type": "code",
   "execution_count": 40,
   "metadata": {},
   "outputs": [
    {
     "output_type": "stream",
     "name": "stdout",
     "text": [
      "Soft Penalty: 7\n"
     ]
    }
   ],
   "source": [
    "getSoftPenalty(solution_template)"
   ]
  },
  {
   "cell_type": "code",
   "execution_count": 65,
   "metadata": {
    "tags": []
   },
   "outputs": [
    {
     "output_type": "stream",
     "name": "stdout",
     "text": [
      "Total Hard penalty: 408694\n"
     ]
    },
    {
     "output_type": "execute_result",
     "data": {
      "text/plain": [
       "408694"
      ]
     },
     "metadata": {},
     "execution_count": 65
    }
   ],
   "source": [
    "getHardPenalty(solution_template)"
   ]
  },
  {
   "cell_type": "code",
   "execution_count": null,
   "metadata": {},
   "outputs": [],
   "source": []
  }
 ]
}